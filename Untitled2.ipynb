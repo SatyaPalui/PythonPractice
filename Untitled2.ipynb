{
  "nbformat": 4,
  "nbformat_minor": 0,
  "metadata": {
    "colab": {
      "name": "Untitled2.ipynb",
      "provenance": [],
      "collapsed_sections": [],
      "authorship_tag": "ABX9TyPLgzNOqOUzQbMcBZ1g9Zsu",
      "include_colab_link": true
    },
    "kernelspec": {
      "name": "python3",
      "display_name": "Python 3"
    },
    "language_info": {
      "name": "python"
    }
  },
  "cells": [
    {
      "cell_type": "markdown",
      "metadata": {
        "id": "view-in-github",
        "colab_type": "text"
      },
      "source": [
        "<a href=\"https://colab.research.google.com/github/SatyaPalui/PythonPractice/blob/main/Untitled2.ipynb\" target=\"_parent\"><img src=\"https://colab.research.google.com/assets/colab-badge.svg\" alt=\"Open In Colab\"/></a>"
      ]
    },
    {
      "cell_type": "code",
      "execution_count": null,
      "metadata": {
        "colab": {
          "base_uri": "https://localhost:8080/"
        },
        "id": "3NKP3R67AwYM",
        "outputId": "afd49a87-2391-4636-9129-211aca886540"
      },
      "outputs": [
        {
          "output_type": "stream",
          "name": "stdout",
          "text": [
            "Hello from a function\n"
          ]
        }
      ],
      "source": [
        "def my_function():\n",
        "  print(\"Hello from a function\")\n",
        "my_function()\n"
      ]
    },
    {
      "cell_type": "code",
      "source": [
        "def my_function(fname, lname):\n",
        "  print(fname)\n",
        "my_function(\"satya\",\"palui\")"
      ],
      "metadata": {
        "colab": {
          "base_uri": "https://localhost:8080/"
        },
        "id": "S3Z-RF4XBfON",
        "outputId": "70caa82c-ce16-400d-bbab-e2eb1afac1ba"
      },
      "execution_count": null,
      "outputs": [
        {
          "output_type": "stream",
          "name": "stdout",
          "text": [
            "satya\n"
          ]
        }
      ]
    },
    {
      "cell_type": "code",
      "source": [
        "def x(k):\n",
        "  if(k > 0):\n",
        "    result = k + x(k - 1)\n",
        "    print(result)\n",
        "  else:\n",
        "    result = 0\n",
        "  return result\n",
        "\n",
        "print(\"\\n\\nRecursion Example Results\")\n",
        "x(6)"
      ],
      "metadata": {
        "colab": {
          "base_uri": "https://localhost:8080/"
        },
        "id": "TniWIJq91e0m",
        "outputId": "0a76417b-e5e0-489b-d33a-30a64183ba50"
      },
      "execution_count": null,
      "outputs": [
        {
          "output_type": "stream",
          "name": "stdout",
          "text": [
            "\n",
            "\n",
            "Recursion Example Results\n",
            "1\n",
            "3\n",
            "6\n",
            "10\n",
            "15\n",
            "21\n"
          ]
        },
        {
          "output_type": "execute_result",
          "data": {
            "text/plain": [
              "21"
            ]
          },
          "metadata": {},
          "execution_count": 3
        }
      ]
    },
    {
      "cell_type": "code",
      "source": [
        "def tri_recursion(k):\n",
        "  if(k > 0):\n",
        "    result = k + tri_recursion(k - 1)\n",
        "    print(result)\n",
        "  else:\n",
        "    result = 0\n",
        "  return result\n",
        "\n",
        "print(\"\\n\\nRecursion Example Results\")\n",
        "tri_recursion(6)"
      ],
      "metadata": {
        "colab": {
          "base_uri": "https://localhost:8080/"
        },
        "id": "jvu2dwUTsppK",
        "outputId": "9ab5db5d-66f4-459e-950c-7f0db4c049bf"
      },
      "execution_count": null,
      "outputs": [
        {
          "output_type": "stream",
          "name": "stdout",
          "text": [
            "\n",
            "\n",
            "Recursion Example Results\n",
            "1\n",
            "3\n",
            "6\n",
            "10\n",
            "15\n",
            "21\n"
          ]
        },
        {
          "output_type": "execute_result",
          "data": {
            "text/plain": [
              "21"
            ]
          },
          "metadata": {},
          "execution_count": 4
        }
      ]
    },
    {
      "cell_type": "code",
      "source": [
        "def x(i):\n",
        "  return lambda a : a * i\n",
        "\n",
        "d = x(2)\n",
        "t = x(3)\n",
        "\n",
        "print(d(11))\n",
        "print(t(11))"
      ],
      "metadata": {
        "colab": {
          "base_uri": "https://localhost:8080/"
        },
        "id": "G0NwPjDUy0kT",
        "outputId": "dca8b980-8d9f-4b3a-82bc-208172e380f3"
      },
      "execution_count": null,
      "outputs": [
        {
          "output_type": "stream",
          "name": "stdout",
          "text": [
            "22\n",
            "33\n"
          ]
        }
      ]
    },
    {
      "cell_type": "code",
      "source": [
        "class Person:\n",
        "  def __init__(self, name, age):\n",
        "    self.name = name\n",
        "    self.age = age\n",
        "\n",
        "  def myfunc(self):\n",
        "    print(\"Hello my name is \" + self.name)\n",
        "\n",
        "  def myage(self):\n",
        "    print(\"My age is \", self.age)\n",
        "    self.age = self.age + 2\n",
        "    print(\"My age is \", self.age)\n",
        "\n",
        "  def myage2(self):\n",
        "    print(\"My age2 is \", self.age)\n",
        "\n",
        "p1 = Person(\"Satya\", 34)\n",
        "p1.myfunc()\n",
        "\n",
        "p2 = Person(\"Amartya\",35)\n",
        "p2.myage()\n",
        "\n",
        "p2.myage2()"
      ],
      "metadata": {
        "colab": {
          "base_uri": "https://localhost:8080/"
        },
        "id": "IViXox4aOAI_",
        "outputId": "b515be82-1ab7-4e5e-ccc2-048aa1a6b9f0"
      },
      "execution_count": 12,
      "outputs": [
        {
          "output_type": "stream",
          "name": "stdout",
          "text": [
            "Hello my name is Satya\n",
            "My age is  35\n",
            "My age is  37\n",
            "My age2 is  37\n"
          ]
        }
      ]
    },
    {
      "cell_type": "code",
      "source": [
        "class Person:\n",
        "  def __init__(self):\n",
        "    self.name = None\n",
        "    self.age = None\n",
        "\n",
        "  def myfunc(self):\n",
        "    self.name = \"John\"\n",
        "    self.age = 35\n",
        "    print(\"Hello my name is \" + self.name)\n",
        "\n",
        "  def myage(self):\n",
        "    print(\"My age is \", self.age)\n",
        "    self.age = self.age + 2\n",
        "    print(\"My age is \", self.age)\n",
        "\n",
        "  def myage2(self):\n",
        "    print(\"My age is \", self.age)\n",
        "\n",
        "p1 = Person()\n",
        "p1.myfunc()\n",
        "\n",
        "\n",
        "#p2 = Person(\"Amartya\",35)\n",
        "#p2.myage()\n",
        "\n",
        "#p2.myage2()"
      ],
      "metadata": {
        "colab": {
          "base_uri": "https://localhost:8080/"
        },
        "id": "IUxawI2kRTfy",
        "outputId": "7a8782cf-68d0-4aeb-f36c-2191333d4f09"
      },
      "execution_count": 13,
      "outputs": [
        {
          "output_type": "stream",
          "name": "stdout",
          "text": [
            "Hello my name is John\n"
          ]
        }
      ]
    },
    {
      "cell_type": "code",
      "source": [
        "class TempConverter:\n",
        "  def __init__(self, farenhite):\n",
        "    self.farenhite = farenhite\n",
        "\n",
        "  def myfunc(self):\n",
        "    self.centigrade = (self.farenhite-32)*(5/9)\n",
        "    print(\"Temp in c is \", self.centigrade)\n",
        "\n",
        "  def tempdiff(self):\n",
        "    self.centigrade = self.centigrade + 2\n",
        "    print(\"Temp in new c is \", self.centigrade)\n",
        "\n",
        "temparr = [34, 38, 32, 36 ]\n",
        "temparr2 = temparr.copy()\n",
        "temparr2.pop(0)\n",
        "for i in range (len(temparr)):\n",
        "  t1 = TempConverter(temparr[i])\n",
        "  t1.myfunc()\n",
        "  t1.tempdiff()\n"
      ],
      "metadata": {
        "colab": {
          "base_uri": "https://localhost:8080/"
        },
        "id": "0VTuv4ugTK5B",
        "outputId": "29392cd8-e99e-4967-b9e9-1269bed6cf79"
      },
      "execution_count": null,
      "outputs": [
        {
          "output_type": "stream",
          "name": "stdout",
          "text": [
            "Temp in c is  1.1111111111111112\n",
            "Temp in new c is  3.111111111111111\n",
            "Temp in c is  3.3333333333333335\n",
            "Temp in new c is  5.333333333333334\n",
            "Temp in c is  0.0\n",
            "Temp in new c is  2.0\n",
            "Temp in c is  2.2222222222222223\n",
            "Temp in new c is  4.222222222222222\n"
          ]
        }
      ]
    },
    {
      "cell_type": "code",
      "source": [
        "class tempdiff:\n",
        "  def __init__(self, farenhite):\n",
        "    self.farenhite = farenhite\n",
        "\n",
        "  def myfunc(self):\n",
        "    for i in range (1, len(temparr), 1):\n",
        "      diff = temparr[i]-temparr[i-1]\n",
        "      print(diff)\n",
        "      #print (\"Temparature difference between day \", temparr(i+1), \"and\", temparr(i), \"is\", diff)\n",
        "      #print (f'Temparature difference between day {temparr(i+1)} and {temparr(i)} is {diff})\n",
        "\n",
        "temparr = [34, 38, 32, 36]\n",
        "t1 = tempdiff(temparr)\n",
        "t1.myfunc()\n"
      ],
      "metadata": {
        "colab": {
          "base_uri": "https://localhost:8080/"
        },
        "id": "fwcLThajCSx0",
        "outputId": "4764a00b-94b8-4a71-a647-9385db129f34"
      },
      "execution_count": 32,
      "outputs": [
        {
          "output_type": "stream",
          "name": "stdout",
          "text": [
            "4\n",
            "-6\n",
            "4\n"
          ]
        }
      ]
    },
    {
      "cell_type": "code",
      "source": [
        ""
      ],
      "metadata": {
        "id": "KIVUAnCav0Ge"
      },
      "execution_count": null,
      "outputs": []
    },
    {
      "cell_type": "code",
      "source": [
        "class numbers:\n",
        "  def __init__(self, numbers):\n",
        "    self.numbers = numbers\n",
        "   \n",
        "  def n_max(self):\n",
        "    for i in range (len(self.numbers)):\n",
        "      if i == 0:\n",
        "        n_max = self.numbers[i]\n",
        "      else:\n",
        "        n_max = max(n_max, self.numbers[i])\n",
        "    print(\"Maximum number is \", n_max)\n",
        "\n",
        "numberset = [34, 38, 32, 36, 0, -2]\n",
        "n1 = numbers(numberset)\n",
        "n1.n_max()\n",
        "  "
      ],
      "metadata": {
        "colab": {
          "base_uri": "https://localhost:8080/"
        },
        "id": "90R2l5XPTf-h",
        "outputId": "f0151663-5c27-4f07-fd04-80401eafd832"
      },
      "execution_count": 1,
      "outputs": [
        {
          "output_type": "stream",
          "name": "stdout",
          "text": [
            "Maximum number is  38\n"
          ]
        }
      ]
    },
    {
      "cell_type": "code",
      "source": [
        "class Numbers:\n",
        "  def __init__(self, numbers):\n",
        "    self.numbers = numbers\n",
        "   \n",
        "\n",
        "  def n_max(self):\n",
        "    self.n_max = float (\"-inf\")\n",
        "    for i in range (len(self.numbers)):\n",
        "      self.n_max = max(self.n_max, self.numbers[i])\n",
        "    print(\"Maximum number is \", self.n_max)\n",
        "\n",
        "numberset = [34, 38, 32, 36, 0, -2]\n",
        "n1 = Numbers(numberset)\n",
        "n1.n_max()"
      ],
      "metadata": {
        "colab": {
          "base_uri": "https://localhost:8080/"
        },
        "id": "dU6y086yeOd3",
        "outputId": "7d04491c-07e2-4cfa-a5e0-18ce0a273fcc"
      },
      "execution_count": 10,
      "outputs": [
        {
          "output_type": "stream",
          "name": "stdout",
          "text": [
            "Maximum number is  38\n"
          ]
        }
      ]
    },
    {
      "cell_type": "code",
      "source": [
        "class Numbers:\n",
        "  def __init__(self, numbers):\n",
        "    self.numbers = numbers\n",
        "   \n",
        "\n",
        "  def n_max(self):\n",
        "    self.n_max = float (\"-inf\")\n",
        "    for i in range (len(self.numbers)):\n",
        "      self.n_max = max(self.n_max, self.numbers[i])\n",
        "    return self.n_max\n",
        "\n",
        "numberset = [34, 38, 32, 36, 0, -2]\n",
        "n1 = Numbers(numberset)\n",
        "n2 = Numbers(numberset)\n",
        "result = n2.n_max()\n",
        "print(\"Maximum number is \", n1.n_max())\n",
        "print(\"Maximum number is \", result)"
      ],
      "metadata": {
        "colab": {
          "base_uri": "https://localhost:8080/"
        },
        "id": "29X6muhkhnLT",
        "outputId": "67fa0fe8-5428-4c82-dd54-c2ff6d35f984"
      },
      "execution_count": 14,
      "outputs": [
        {
          "output_type": "stream",
          "name": "stdout",
          "text": [
            "Maximum number is  38\n",
            "Maximum number is  38\n"
          ]
        }
      ]
    },
    {
      "cell_type": "code",
      "source": [
        "class Numbers:\n",
        "  def __init__(self, nos):\n",
        "    self.nos = nos\n",
        "  \n",
        "  def n_max(self):\n",
        "    self.n_max = float (\"-inf\")\n",
        "    for i in range (len(self.nos)):\n",
        "      self.n_max = max(self.n_max, self.nos[i])\n",
        "    print(\"Maximum number is \", self.n_max)\n",
        "  \n",
        "  def n_min(self):\n",
        "    self.n_min = float (\"inf\")\n",
        "    for i in range (len(self.nos)):\n",
        "      self.n_min = min(self.n_min, self.nos[i])\n",
        "    print(\"Minimum number is \", self.n_min)\n",
        "\n",
        "numberset = [34, 38, 32, 36, 0, -2]\n",
        "n1 = Numbers(numberset)\n",
        "n1.n_max()\n",
        "n1.n_min()"
      ],
      "metadata": {
        "colab": {
          "base_uri": "https://localhost:8080/"
        },
        "id": "TihsoLOuity1",
        "outputId": "f003dd7d-a4e2-411c-d6cc-abe3f4791dae"
      },
      "execution_count": 16,
      "outputs": [
        {
          "output_type": "stream",
          "name": "stdout",
          "text": [
            "Maximum number is  38\n",
            "Minimum number is  -2\n"
          ]
        }
      ]
    },
    {
      "cell_type": "code",
      "source": [
        "x = (2,4,6,8,10,12,14,16,18,20)\n",
        "i = len(x)\n",
        "for i in range (len(x), 1, -1):\n",
        "  print(x[i-1])"
      ],
      "metadata": {
        "colab": {
          "base_uri": "https://localhost:8080/"
        },
        "id": "RdVE2GHlv2sa",
        "outputId": "7ed15bcf-7403-4718-c4f0-59c7f2da9588"
      },
      "execution_count": 29,
      "outputs": [
        {
          "output_type": "stream",
          "name": "stdout",
          "text": [
            "20\n",
            "18\n",
            "16\n",
            "14\n",
            "12\n",
            "10\n",
            "8\n",
            "6\n",
            "4\n"
          ]
        }
      ]
    }
  ]
}