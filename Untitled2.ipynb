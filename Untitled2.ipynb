{
  "nbformat": 4,
  "nbformat_minor": 0,
  "metadata": {
    "colab": {
      "name": "Untitled2.ipynb",
      "provenance": [],
      "collapsed_sections": [],
      "authorship_tag": "ABX9TyMvvcRc38OX1pxIjPzXrLq/",
      "include_colab_link": true
    },
    "kernelspec": {
      "name": "python3",
      "display_name": "Python 3"
    },
    "language_info": {
      "name": "python"
    }
  },
  "cells": [
    {
      "cell_type": "markdown",
      "metadata": {
        "id": "view-in-github",
        "colab_type": "text"
      },
      "source": [
        "<a href=\"https://colab.research.google.com/github/SatyaPalui/PythonPractice/blob/main/Untitled2.ipynb\" target=\"_parent\"><img src=\"https://colab.research.google.com/assets/colab-badge.svg\" alt=\"Open In Colab\"/></a>"
      ]
    },
    {
      "cell_type": "code",
      "execution_count": null,
      "metadata": {
        "colab": {
          "base_uri": "https://localhost:8080/"
        },
        "id": "3NKP3R67AwYM",
        "outputId": "afd49a87-2391-4636-9129-211aca886540"
      },
      "outputs": [
        {
          "output_type": "stream",
          "name": "stdout",
          "text": [
            "Hello from a function\n"
          ]
        }
      ],
      "source": [
        "def my_function():\n",
        "  print(\"Hello from a function\")\n",
        "my_function()\n"
      ]
    },
    {
      "cell_type": "code",
      "source": [
        "def my_function(fname, lname):\n",
        "  print(fname)\n",
        "my_function(\"satya\",\"palui\")"
      ],
      "metadata": {
        "colab": {
          "base_uri": "https://localhost:8080/"
        },
        "id": "S3Z-RF4XBfON",
        "outputId": "70caa82c-ce16-400d-bbab-e2eb1afac1ba"
      },
      "execution_count": null,
      "outputs": [
        {
          "output_type": "stream",
          "name": "stdout",
          "text": [
            "satya\n"
          ]
        }
      ]
    },
    {
      "cell_type": "code",
      "source": [
        "def x(k):\n",
        "  if(k > 0):\n",
        "    result = k + x(k - 1)\n",
        "    print(result)\n",
        "  else:\n",
        "    result = 0\n",
        "  return result\n",
        "\n",
        "print(\"\\n\\nRecursion Example Results\")\n",
        "x(6)"
      ],
      "metadata": {
        "colab": {
          "base_uri": "https://localhost:8080/"
        },
        "id": "TniWIJq91e0m",
        "outputId": "0a76417b-e5e0-489b-d33a-30a64183ba50"
      },
      "execution_count": null,
      "outputs": [
        {
          "output_type": "stream",
          "name": "stdout",
          "text": [
            "\n",
            "\n",
            "Recursion Example Results\n",
            "1\n",
            "3\n",
            "6\n",
            "10\n",
            "15\n",
            "21\n"
          ]
        },
        {
          "output_type": "execute_result",
          "data": {
            "text/plain": [
              "21"
            ]
          },
          "metadata": {},
          "execution_count": 3
        }
      ]
    },
    {
      "cell_type": "code",
      "source": [
        "def tri_recursion(k):\n",
        "  if(k > 0):\n",
        "    result = k + tri_recursion(k - 1)\n",
        "    print(result)\n",
        "  else:\n",
        "    result = 0\n",
        "  return result\n",
        "\n",
        "print(\"\\n\\nRecursion Example Results\")\n",
        "tri_recursion(6)"
      ],
      "metadata": {
        "colab": {
          "base_uri": "https://localhost:8080/"
        },
        "id": "jvu2dwUTsppK",
        "outputId": "9ab5db5d-66f4-459e-950c-7f0db4c049bf"
      },
      "execution_count": null,
      "outputs": [
        {
          "output_type": "stream",
          "name": "stdout",
          "text": [
            "\n",
            "\n",
            "Recursion Example Results\n",
            "1\n",
            "3\n",
            "6\n",
            "10\n",
            "15\n",
            "21\n"
          ]
        },
        {
          "output_type": "execute_result",
          "data": {
            "text/plain": [
              "21"
            ]
          },
          "metadata": {},
          "execution_count": 4
        }
      ]
    },
    {
      "cell_type": "code",
      "source": [
        "def x(i):\n",
        "  return lambda a : a * i\n",
        "\n",
        "d = x(2)\n",
        "t = x(3)\n",
        "\n",
        "print(d(11))\n",
        "print(t(11))"
      ],
      "metadata": {
        "colab": {
          "base_uri": "https://localhost:8080/"
        },
        "id": "G0NwPjDUy0kT",
        "outputId": "dca8b980-8d9f-4b3a-82bc-208172e380f3"
      },
      "execution_count": null,
      "outputs": [
        {
          "output_type": "stream",
          "name": "stdout",
          "text": [
            "22\n",
            "33\n"
          ]
        }
      ]
    },
    {
      "cell_type": "code",
      "source": [
        "class Person:\n",
        "  def __init__(self, name, age):\n",
        "    self.name = name\n",
        "    self.age = age\n",
        "\n",
        "  def myfunc(self):\n",
        "    print(\"Hello my name is \" + self.name)\n",
        "\n",
        "  def myage(self):\n",
        "    print(\"My age is \", self.age)\n",
        "    self.age = self.age + 2\n",
        "    print(\"My age is \", self.age)\n",
        "\n",
        "  def myage2(self):\n",
        "    print(\"My age2 is \", self.age)\n",
        "\n",
        "p1 = Person(\"Satya\", 34)\n",
        "p1.myfunc()\n",
        "\n",
        "p2 = Person(\"Amartya\",35)\n",
        "p2.myage()\n",
        "\n",
        "p2.myage2()"
      ],
      "metadata": {
        "colab": {
          "base_uri": "https://localhost:8080/"
        },
        "id": "IViXox4aOAI_",
        "outputId": "b515be82-1ab7-4e5e-ccc2-048aa1a6b9f0"
      },
      "execution_count": null,
      "outputs": [
        {
          "output_type": "stream",
          "name": "stdout",
          "text": [
            "Hello my name is Satya\n",
            "My age is  35\n",
            "My age is  37\n",
            "My age2 is  37\n"
          ]
        }
      ]
    },
    {
      "cell_type": "code",
      "source": [
        "class Person:\n",
        "  def __init__(self):\n",
        "    self.name = None\n",
        "    self.age = None\n",
        "\n",
        "  def myfunc(self):\n",
        "    self.name = \"John\"\n",
        "    self.age = 35\n",
        "    print(\"Hello my name is \" + self.name)\n",
        "\n",
        "  def myage(self):\n",
        "    print(\"My age is \", self.age)\n",
        "    self.age = self.age + 2\n",
        "    print(\"My age is \", self.age)\n",
        "\n",
        "  def myage2(self):\n",
        "    print(\"My age is \", self.age)\n",
        "\n",
        "p1 = Person()\n",
        "p1.myfunc()\n",
        "\n",
        "\n",
        "#p2 = Person(\"Amartya\",35)\n",
        "#p2.myage()\n",
        "\n",
        "#p2.myage2()"
      ],
      "metadata": {
        "colab": {
          "base_uri": "https://localhost:8080/"
        },
        "id": "IUxawI2kRTfy",
        "outputId": "7a8782cf-68d0-4aeb-f36c-2191333d4f09"
      },
      "execution_count": null,
      "outputs": [
        {
          "output_type": "stream",
          "name": "stdout",
          "text": [
            "Hello my name is John\n"
          ]
        }
      ]
    },
    {
      "cell_type": "code",
      "source": [
        "class TempConverter:\n",
        "  def __init__(self, farenhite):\n",
        "    self.farenhite = farenhite\n",
        "\n",
        "  def myfunc(self):\n",
        "    self.centigrade = (self.farenhite-32)*(5/9)\n",
        "    print(\"Temp in c is \", self.centigrade)\n",
        "\n",
        "  def tempdiff(self):\n",
        "    self.centigrade = self.centigrade + 2\n",
        "    print(\"Temp in new c is \", self.centigrade)\n",
        "\n",
        "temparr = [34, 38, 32, 36 ]\n",
        "temparr2 = temparr.copy()\n",
        "temparr2.pop(0)\n",
        "for i in range (len(temparr)):\n",
        "  t1 = TempConverter(temparr[i])\n",
        "  t1.myfunc()\n",
        "  t1.tempdiff()\n"
      ],
      "metadata": {
        "colab": {
          "base_uri": "https://localhost:8080/"
        },
        "id": "0VTuv4ugTK5B",
        "outputId": "29392cd8-e99e-4967-b9e9-1269bed6cf79"
      },
      "execution_count": null,
      "outputs": [
        {
          "output_type": "stream",
          "name": "stdout",
          "text": [
            "Temp in c is  1.1111111111111112\n",
            "Temp in new c is  3.111111111111111\n",
            "Temp in c is  3.3333333333333335\n",
            "Temp in new c is  5.333333333333334\n",
            "Temp in c is  0.0\n",
            "Temp in new c is  2.0\n",
            "Temp in c is  2.2222222222222223\n",
            "Temp in new c is  4.222222222222222\n"
          ]
        }
      ]
    },
    {
      "cell_type": "code",
      "source": [
        "class tempdiff:\n",
        "  def __init__(self, farenhite):\n",
        "    self.farenhite = farenhite\n",
        "\n",
        "  def myfunc(self):\n",
        "    for i in range (1, len(temparr), 1):\n",
        "      diff = temparr[i]-temparr[i-1]\n",
        "      print(diff)\n",
        "      #print (\"Temparature difference between day \", temparr(i+1), \"and\", temparr(i), \"is\", diff)\n",
        "      #print (f'Temparature difference between day {temparr(i+1)} and {temparr(i)} is {diff})\n",
        "\n",
        "temparr = [34, 38, 32, 36]\n",
        "t1 = tempdiff(temparr)\n",
        "t1.myfunc()\n"
      ],
      "metadata": {
        "colab": {
          "base_uri": "https://localhost:8080/"
        },
        "id": "fwcLThajCSx0",
        "outputId": "4764a00b-94b8-4a71-a647-9385db129f34"
      },
      "execution_count": null,
      "outputs": [
        {
          "output_type": "stream",
          "name": "stdout",
          "text": [
            "4\n",
            "-6\n",
            "4\n"
          ]
        }
      ]
    },
    {
      "cell_type": "code",
      "source": [
        ""
      ],
      "metadata": {
        "id": "F7ZU5JE9ZCmT"
      },
      "execution_count": null,
      "outputs": []
    },
    {
      "cell_type": "code",
      "source": [
        ""
      ],
      "metadata": {
        "id": "KIVUAnCav0Ge"
      },
      "execution_count": null,
      "outputs": []
    },
    {
      "cell_type": "code",
      "source": [
        "class numbers:\n",
        "  def __init__(self, numbers):\n",
        "    self.numbers = numbers\n",
        "   \n",
        "  def n_max(self):\n",
        "    for i in range (len(self.numbers)):\n",
        "      if i == 0:\n",
        "        n_max = self.numbers[i]\n",
        "      else:\n",
        "        n_max = max(n_max, self.numbers[i])\n",
        "    print(\"Maximum number is \", n_max)\n",
        "\n",
        "numberset = [34, 38, 32, 36, 0, -2]\n",
        "n1 = numbers(numberset)\n",
        "n1.n_max()\n",
        "  "
      ],
      "metadata": {
        "colab": {
          "base_uri": "https://localhost:8080/"
        },
        "id": "90R2l5XPTf-h",
        "outputId": "f0151663-5c27-4f07-fd04-80401eafd832"
      },
      "execution_count": null,
      "outputs": [
        {
          "output_type": "stream",
          "name": "stdout",
          "text": [
            "Maximum number is  38\n"
          ]
        }
      ]
    },
    {
      "cell_type": "code",
      "source": [
        "class Numbers:\n",
        "  def __init__(self, numbers):\n",
        "    self.numbers = numbers\n",
        "   \n",
        "\n",
        "  def n_max(self):\n",
        "    self.n_max = float (\"-inf\")\n",
        "    for i in range (len(self.numbers)):\n",
        "      self.n_max = max(self.n_max, self.numbers[i])\n",
        "    print(\"Maximum number is \", self.n_max)\n",
        "\n",
        "numberset = [34, 38, 32, 36, 0, -2]\n",
        "n1 = Numbers(numberset)\n",
        "n1.n_max()"
      ],
      "metadata": {
        "colab": {
          "base_uri": "https://localhost:8080/"
        },
        "id": "dU6y086yeOd3",
        "outputId": "7d04491c-07e2-4cfa-a5e0-18ce0a273fcc"
      },
      "execution_count": null,
      "outputs": [
        {
          "output_type": "stream",
          "name": "stdout",
          "text": [
            "Maximum number is  38\n"
          ]
        }
      ]
    },
    {
      "cell_type": "code",
      "source": [
        "class Numbers:\n",
        "  def __init__(self, numbers):\n",
        "    self.numbers = numbers\n",
        "   \n",
        "\n",
        "  def n_max(self):\n",
        "    self.n_max = float (\"-inf\")\n",
        "    for i in range (len(self.numbers)):\n",
        "      self.n_max = max(self.n_max, self.numbers[i])\n",
        "    return self.n_max\n",
        "\n",
        "numberset = [34, 38, 32, 36, 0, -2]\n",
        "n1 = Numbers(numberset)\n",
        "n2 = Numbers(numberset)\n",
        "result = n2.n_max()\n",
        "print(\"Maximum number is \", n1.n_max())\n",
        "print(\"Maximum number is \", result)"
      ],
      "metadata": {
        "colab": {
          "base_uri": "https://localhost:8080/"
        },
        "id": "29X6muhkhnLT",
        "outputId": "67fa0fe8-5428-4c82-dd54-c2ff6d35f984"
      },
      "execution_count": null,
      "outputs": [
        {
          "output_type": "stream",
          "name": "stdout",
          "text": [
            "Maximum number is  38\n",
            "Maximum number is  38\n"
          ]
        }
      ]
    },
    {
      "cell_type": "code",
      "source": [
        "class Numbers:\n",
        "  def __init__(self, nos):\n",
        "    self.nos = nos\n",
        "  \n",
        "  def n_max(self):\n",
        "    self.n_max = float (\"-inf\")\n",
        "    for i in range (len(self.nos)):\n",
        "      self.n_max = max(self.n_max, self.nos[i])\n",
        "    print(\"Maximum number is \", self.n_max)\n",
        "  \n",
        "  def n_min(self):\n",
        "    self.n_min = float (\"inf\")\n",
        "    for i in range (len(self.nos)):\n",
        "      self.n_min = min(self.n_min, self.nos[i])\n",
        "    print(\"Minimum number is \", self.n_min)\n",
        "\n",
        "numberset = [34, 38, 32, 36, 0, -2]\n",
        "n1 = Numbers(numberset)\n",
        "n1.n_max()\n",
        "n1.n_min()"
      ],
      "metadata": {
        "colab": {
          "base_uri": "https://localhost:8080/"
        },
        "id": "TihsoLOuity1",
        "outputId": "f003dd7d-a4e2-411c-d6cc-abe3f4791dae"
      },
      "execution_count": null,
      "outputs": [
        {
          "output_type": "stream",
          "name": "stdout",
          "text": [
            "Maximum number is  38\n",
            "Minimum number is  -2\n"
          ]
        }
      ]
    },
    {
      "cell_type": "code",
      "source": [
        "x = (2,4,6,8,10,12,14,16,18,20)\n",
        "i = len(x)\n",
        "for i in range (len(x), 1, -1):\n",
        "  print(x[i-1])"
      ],
      "metadata": {
        "colab": {
          "base_uri": "https://localhost:8080/"
        },
        "id": "RdVE2GHlv2sa",
        "outputId": "7ed15bcf-7403-4718-c4f0-59c7f2da9588"
      },
      "execution_count": null,
      "outputs": [
        {
          "output_type": "stream",
          "name": "stdout",
          "text": [
            "20\n",
            "18\n",
            "16\n",
            "14\n",
            "12\n",
            "10\n",
            "8\n",
            "6\n",
            "4\n"
          ]
        }
      ]
    },
    {
      "cell_type": "code",
      "source": [
        "p = 34.99\n",
        "w = 20\n",
        "print (\"Price = $\",p,\" Weight\", w, \"lbs\")\n",
        "print (f'price = $ {p}. Weight {w} lbs')"
      ],
      "metadata": {
        "colab": {
          "base_uri": "https://localhost:8080/"
        },
        "id": "tzwuegm-ZEaJ",
        "outputId": "29567768-9612-4e6d-c164-200f56cbf15e"
      },
      "execution_count": null,
      "outputs": [
        {
          "output_type": "stream",
          "name": "stdout",
          "text": [
            "Price = $ 34.99  Weight 20 lbs\n",
            "price = $ 34.99. Weight 20 lbs\n"
          ]
        }
      ]
    },
    {
      "cell_type": "code",
      "source": [
        " x = 3.1415\n",
        " y = str(x)\n",
        " print (f'pi = {y[:4]}')"
      ],
      "metadata": {
        "colab": {
          "base_uri": "https://localhost:8080/"
        },
        "id": "4cY-wn1haxmp",
        "outputId": "880ebeaa-9ad4-4753-dd0b-8e41909e2b99"
      },
      "execution_count": null,
      "outputs": [
        {
          "output_type": "stream",
          "name": "stdout",
          "text": [
            "pi = 3.14\n"
          ]
        }
      ]
    },
    {
      "cell_type": "code",
      "source": [
        "print('-'*5)\n",
        "print('ABC')\n",
        "print('-'*5)"
      ],
      "metadata": {
        "colab": {
          "base_uri": "https://localhost:8080/"
        },
        "id": "w6eJGz5Ngckw",
        "outputId": "bb397fa2-da49-4d6c-8d85-9bcadd7de94e"
      },
      "execution_count": null,
      "outputs": [
        {
          "output_type": "stream",
          "name": "stdout",
          "text": [
            "-----\n",
            "ABC\n",
            "-----\n"
          ]
        }
      ]
    },
    {
      "cell_type": "code",
      "source": [
        "print('G','F','G', sep=' ')"
      ],
      "metadata": {
        "colab": {
          "base_uri": "https://localhost:8080/"
        },
        "id": "9KnHsaI-jfwJ",
        "outputId": "31d2556b-2006-4b32-87c3-05524bb3d7c3"
      },
      "execution_count": null,
      "outputs": [
        {
          "output_type": "stream",
          "name": "stdout",
          "text": [
            "G F G\n"
          ]
        }
      ]
    },
    {
      "cell_type": "code",
      "source": [
        "print(\"Python\" , end = '@') \n",
        "print(\"GeeksforGeeks\")"
      ],
      "metadata": {
        "colab": {
          "base_uri": "https://localhost:8080/"
        },
        "id": "BeBHZNcLkOzr",
        "outputId": "5ab0cb7a-5df0-45c4-ecd5-ead11e48ded3"
      },
      "execution_count": null,
      "outputs": [
        {
          "output_type": "stream",
          "name": "stdout",
          "text": [
            "Python@GeeksforGeeks\n"
          ]
        }
      ]
    },
    {
      "cell_type": "code",
      "source": [
        "print(\"Python\" , end = '@\\n') \n",
        "print(\"GeeksforGeeks\")"
      ],
      "metadata": {
        "colab": {
          "base_uri": "https://localhost:8080/"
        },
        "id": "xbFIRFsUks33",
        "outputId": "680dbc79-c746-47c9-8453-40c81b3d5c3a"
      },
      "execution_count": null,
      "outputs": [
        {
          "output_type": "stream",
          "name": "stdout",
          "text": [
            "Python@\n",
            "GeeksforGeeks\n"
          ]
        }
      ]
    },
    {
      "cell_type": "code",
      "source": [
        "print(\"Python\", \"GeeksforGeeks\", end = '@') "
      ],
      "metadata": {
        "colab": {
          "base_uri": "https://localhost:8080/"
        },
        "id": "zO_vcmsZkbLi",
        "outputId": "a74fe90f-faf4-4fe6-ba0d-92f6a64dd73c"
      },
      "execution_count": null,
      "outputs": [
        {
          "output_type": "stream",
          "name": "stdout",
          "text": [
            "Python GeeksforGeeks@"
          ]
        }
      ]
    },
    {
      "cell_type": "code",
      "source": [
        "p = 1000\n",
        "r = 3\n",
        "n = 5\n",
        "v = p*(1+r/100)**n\n",
        "print(f'Future investment value = {v:.2f} USD')"
      ],
      "metadata": {
        "colab": {
          "base_uri": "https://localhost:8080/"
        },
        "id": "1cKktb_Cnr0U",
        "outputId": "1cdbb919-bac4-4e68-d693-9f7ac702ab1f"
      },
      "execution_count": null,
      "outputs": [
        {
          "output_type": "stream",
          "name": "stdout",
          "text": [
            "Future investment value = 1159.27 USD\n"
          ]
        }
      ]
    },
    {
      "cell_type": "code",
      "source": [
        "a = 3\n",
        "b = -4\n",
        "c = 1\n",
        "d = b**2-4*a*c\n",
        "print(f'delta = {d}')"
      ],
      "metadata": {
        "colab": {
          "base_uri": "https://localhost:8080/"
        },
        "id": "TmVNh5NEubdM",
        "outputId": "effce773-6e39-4335-9d11-abefd8847c6c"
      },
      "execution_count": null,
      "outputs": [
        {
          "output_type": "stream",
          "name": "stdout",
          "text": [
            "delta = 4\n"
          ]
        }
      ]
    },
    {
      "cell_type": "code",
      "source": [
        "a = 14\n",
        "d = 4\n",
        "n = 10\n",
        "s = (n/2)*(2*a+(n-1)*d)\n",
        "print(s)"
      ],
      "metadata": {
        "colab": {
          "base_uri": "https://localhost:8080/"
        },
        "id": "DPaVUr-gwUef",
        "outputId": "1d457878-b3c9-452d-f94e-abe3dce6d20c"
      },
      "execution_count": null,
      "outputs": [
        {
          "output_type": "stream",
          "name": "stdout",
          "text": [
            "320.0\n"
          ]
        }
      ]
    },
    {
      "cell_type": "code",
      "source": [
        "A = (2,4)\n",
        "B = (-4,6)\n",
        "x = (A[0]+B[0])/2\n",
        "print(x)"
      ],
      "metadata": {
        "colab": {
          "base_uri": "https://localhost:8080/"
        },
        "id": "nos8o4Qc34tQ",
        "outputId": "4e41da9b-83e5-4884-f845-baa31a2d2dfe"
      },
      "execution_count": null,
      "outputs": [
        {
          "output_type": "stream",
          "name": "stdout",
          "text": [
            "-1.0\n"
          ]
        }
      ]
    },
    {
      "cell_type": "code",
      "source": [
        "filename = 'view.jpg'\n",
        "print(filename[5:])\n",
        "print(filename[-3:])"
      ],
      "metadata": {
        "colab": {
          "base_uri": "https://localhost:8080/"
        },
        "id": "yH0RI9G2d-oo",
        "outputId": "49974a7d-9f66-43a3-fcf2-218fae8703a5"
      },
      "execution_count": null,
      "outputs": [
        {
          "output_type": "stream",
          "name": "stdout",
          "text": [
            "jpg\n",
            "jpg\n"
          ]
        }
      ]
    },
    {
      "cell_type": "code",
      "source": [
        "x = 'PKV-89415-PLN'\n",
        "i = x[:3]+x[-3:]\n",
        "print (x[:3]+x[-3:])"
      ],
      "metadata": {
        "colab": {
          "base_uri": "https://localhost:8080/"
        },
        "id": "fOYgPBr-fZhz",
        "outputId": "ce244ac8-b950-4c83-8b9d-e13e6c77a414"
      },
      "execution_count": null,
      "outputs": [
        {
          "output_type": "stream",
          "name": "stdout",
          "text": [
            "PKVPLN\n"
          ]
        }
      ]
    },
    {
      "cell_type": "code",
      "source": [
        "x = '1 0 0 1 0 1'\n",
        "p = x[::2]\n",
        "print (p)\n",
        "q = int(p,2)\n",
        "print(q)\n",
        "\n",
        "text = 'Python Course'\n",
        "print(text[::-1])"
      ],
      "metadata": {
        "colab": {
          "base_uri": "https://localhost:8080/"
        },
        "id": "bGXg2BnnhP2z",
        "outputId": "035f2f82-c117-4529-97f6-6a8f0d0a0aec"
      },
      "execution_count": null,
      "outputs": [
        {
          "output_type": "stream",
          "name": "stdout",
          "text": [
            "100101\n",
            "37\n",
            "esruoC nohtyP\n"
          ]
        }
      ]
    },
    {
      "cell_type": "code",
      "source": [
        "var1 = ''\n",
        "var2 = ' '\n",
        "var3 = '\\n'\n",
        "print(type(var1))\n",
        "print(type(var2))\n",
        "print(type(var3))"
      ],
      "metadata": {
        "colab": {
          "base_uri": "https://localhost:8080/"
        },
        "id": "LnS3jwdutQtS",
        "outputId": "9f7df587-a394-4fee-e7ee-09476545ca84"
      },
      "execution_count": null,
      "outputs": [
        {
          "output_type": "stream",
          "name": "stdout",
          "text": [
            "<class 'str'>\n",
            "<class 'str'>\n",
            "<class 'str'>\n"
          ]
        }
      ]
    },
    {
      "cell_type": "code",
      "source": [
        "var1 = None\n",
        "var2 = False\n",
        "var3 = 'True'\n",
        "print(type(var1))\n",
        "print(type(var2))\n",
        "print(type(var3))\n",
        "print(var1)"
      ],
      "metadata": {
        "colab": {
          "base_uri": "https://localhost:8080/"
        },
        "id": "pzF2l_GZwkgI",
        "outputId": "b93445f5-e2d3-4ad3-8575-3277c1782eb5"
      },
      "execution_count": null,
      "outputs": [
        {
          "output_type": "stream",
          "name": "stdout",
          "text": [
            "<class 'NoneType'>\n",
            "<class 'bool'>\n",
            "<class 'str'>\n",
            "None\n"
          ]
        }
      ]
    },
    {
      "cell_type": "code",
      "source": [
        "flag = False\n",
        "if (type(flag)==bool):\n",
        "  print ('true')\n",
        "else:\n",
        "  print ('false')"
      ],
      "metadata": {
        "colab": {
          "base_uri": "https://localhost:8080/"
        },
        "id": "1tyUPe7SyaLL",
        "outputId": "e9e14778-db6b-405f-ecb7-3ddb1f1c0bda"
      },
      "execution_count": null,
      "outputs": [
        {
          "output_type": "stream",
          "name": "stdout",
          "text": [
            "true\n"
          ]
        }
      ]
    },
    {
      "cell_type": "code",
      "source": [
        "text = 'python is a popular programming language.'\n",
        "print(text.replace(\"p\",\"P\",1))\n",
        "print(text.count(\"p\"))"
      ],
      "metadata": {
        "colab": {
          "base_uri": "https://localhost:8080/"
        },
        "id": "I082rxEP1s_c",
        "outputId": "c62a85f4-6835-476d-a29e-ec18940886d1"
      },
      "execution_count": null,
      "outputs": [
        {
          "output_type": "stream",
          "name": "stdout",
          "text": [
            "Python is a popular programming language.\n",
            "4\n"
          ]
        }
      ]
    },
    {
      "cell_type": "code",
      "source": [
        "code1 = 'FVNISJND-XX-2020'\n",
        "code2 = 'FVNISJND-XY-2019'\n",
        "if code1[-4:] == '2020':\n",
        "  print(\"code1 = True\")"
      ],
      "metadata": {
        "colab": {
          "base_uri": "https://localhost:8080/"
        },
        "id": "aJiwOXsY9D3m",
        "outputId": "61b7e984-e4cb-44b1-899a-d3caeebc4851"
      },
      "execution_count": null,
      "outputs": [
        {
          "output_type": "stream",
          "name": "stdout",
          "text": [
            "code1 = True\n"
          ]
        }
      ]
    },
    {
      "cell_type": "code",
      "source": [
        "path1 = 'youtube.com/watch?v=5EhRztVxums'\n",
        "path2 = 'google.com/search?q=car'\n",
        "print(f\"link is {path1.startswith('youtube')}\")"
      ],
      "metadata": {
        "colab": {
          "base_uri": "https://localhost:8080/"
        },
        "id": "t191sH_7CsNB",
        "outputId": "0c9feb1c-3929-48bd-ec18-b2c1eb636ce0"
      },
      "execution_count": null,
      "outputs": [
        {
          "output_type": "stream",
          "name": "stdout",
          "text": [
            "link is True\n"
          ]
        }
      ]
    },
    {
      "cell_type": "code",
      "source": [
        "path1 = 'https://e-smartdata.teachable.com/p/sciezka-data-scientist-machine-learning-engineer'\n",
        "path2 = 'https://e-smartdata.teachable.com/p/sciezka-data-scientist-deep-learning-engineer'\n",
        "path3 = 'https://e-smartdata.teachable.com/p/sciezka-bi-analyst-data-analyst'\n",
        "print(f\"path1 : {path1.find('scientist')}\")"
      ],
      "metadata": {
        "colab": {
          "base_uri": "https://localhost:8080/"
        },
        "id": "Tc_4vC7qJfAM",
        "outputId": "e76b53b6-a0c6-43a6-92f0-7ee3fa46ab51"
      },
      "execution_count": null,
      "outputs": [
        {
          "output_type": "stream",
          "name": "stdout",
          "text": [
            "path1 : 49\n"
          ]
        }
      ]
    },
    {
      "cell_type": "code",
      "source": [
        "code1 = 'FVNISJND-20'\n",
        "code2 = 'FVNISJND20'\n",
        "print(f\"Code1: {code1.isalnum()}\")\n",
        "print(code2.isalnum())"
      ],
      "metadata": {
        "colab": {
          "base_uri": "https://localhost:8080/"
        },
        "id": "MpWocJah6ND1",
        "outputId": "e4b0d39d-135a-4ec8-ce87-fda3fa088823"
      },
      "execution_count": null,
      "outputs": [
        {
          "output_type": "stream",
          "name": "stdout",
          "text": [
            "Code1: False\n",
            "True\n"
          ]
        }
      ]
    },
    {
      "cell_type": "code",
      "source": [
        "text = 'Google Colab'\n",
        "text.lower()\n",
        "text.upper()\n",
        "print(text.lower())\n",
        "print(text.upper())"
      ],
      "metadata": {
        "colab": {
          "base_uri": "https://localhost:8080/"
        },
        "id": "gwTGRd8L9-Uc",
        "outputId": "ddad6513-13d2-4609-90a8-b99958ec4914"
      },
      "execution_count": null,
      "outputs": [
        {
          "output_type": "stream",
          "name": "stdout",
          "text": [
            "google colab\n",
            "GOOGLE COLAB\n"
          ]
        }
      ]
    },
    {
      "cell_type": "code",
      "source": [
        "text = '  Google Colab   '\n",
        "print(text.strip())\n",
        "text.strip()"
      ],
      "metadata": {
        "colab": {
          "base_uri": "https://localhost:8080/",
          "height": 53
        },
        "id": "JomD1RsJBTcY",
        "outputId": "bcdeb6f1-12da-471e-92ad-f215a051141b"
      },
      "execution_count": null,
      "outputs": [
        {
          "output_type": "stream",
          "name": "stdout",
          "text": [
            "Google Colab\n"
          ]
        },
        {
          "output_type": "execute_result",
          "data": {
            "application/vnd.google.colaboratory.intrinsic+json": {
              "type": "string"
            },
            "text/plain": [
              "'Google Colab'"
            ]
          },
          "metadata": {},
          "execution_count": 18
        }
      ]
    },
    {
      "cell_type": "code",
      "source": [
        "code = 'FVNISJND-XX'\n",
        "text = '340-23-245-235'\n",
        "print(code.replace(\"-\",\" \"))\n",
        "print(text.replace(\"-\",\"\"))"
      ],
      "metadata": {
        "colab": {
          "base_uri": "https://localhost:8080/"
        },
        "id": "9HHv6WBxCoNZ",
        "outputId": "70d2f302-f72c-4a59-8229-61ba8875e016"
      },
      "execution_count": null,
      "outputs": [
        {
          "output_type": "stream",
          "name": "stdout",
          "text": [
            "FVNISJND XX\n",
            "34023245235\n"
          ]
        }
      ]
    },
    {
      "cell_type": "code",
      "source": [
        "text = 'Open,High,Low,Close'\n",
        "print (text.split(\",\"))"
      ],
      "metadata": {
        "colab": {
          "base_uri": "https://localhost:8080/"
        },
        "id": "IZ9dg_H0FSZ6",
        "outputId": "8cd3f3ae-f02d-4a0f-f6dc-ac4f0c947d3e"
      },
      "execution_count": null,
      "outputs": [
        {
          "output_type": "stream",
          "name": "stdout",
          "text": [
            "['Open', 'High', 'Low', 'Close']\n"
          ]
        }
      ]
    },
    {
      "cell_type": "code",
      "source": [
        "text = \"\"\"Python is a general-purpose language.\n",
        "Python is popular.\"\"\"\n",
        "print (text.split(\"\\n\"))\n",
        "print(text.splitlines())"
      ],
      "metadata": {
        "colab": {
          "base_uri": "https://localhost:8080/"
        },
        "id": "QqkKDr2XJAb4",
        "outputId": "d17007a5-2ffb-46be-a0c6-585994f1b3ae"
      },
      "execution_count": null,
      "outputs": [
        {
          "output_type": "stream",
          "name": "stdout",
          "text": [
            "['Python is a general-purpose language.', 'Python is popular.']\n",
            "['Python is a general-purpose language.', 'Python is popular.']\n"
          ]
        }
      ]
    },
    {
      "cell_type": "code",
      "source": [
        "num = 34\n",
        "print(f\"0000{str(num)}\")\n",
        "print(str(num).zfill(6))"
      ],
      "metadata": {
        "colab": {
          "base_uri": "https://localhost:8080/"
        },
        "id": "ii7RntM7KbEN",
        "outputId": "9b233372-c3b0-46fe-88df-99be9c218c44"
      },
      "execution_count": null,
      "outputs": [
        {
          "output_type": "stream",
          "name": "stdout",
          "text": [
            "000034\n",
            "000034\n"
          ]
        }
      ]
    },
    {
      "cell_type": "code",
      "source": [
        "url = 'https://e-smartdata.teachable.com/p/sciezka-data-scientist-machine-learning-engineer'\n",
        "name = url.split(\"/\")[-1]\n",
        "name = name.replace(\"-\",\" \")\n",
        "print(name)"
      ],
      "metadata": {
        "colab": {
          "base_uri": "https://localhost:8080/"
        },
        "id": "y16lfv_7MiVW",
        "outputId": "ec05444f-5ffa-4b05-e047-ff3ee547544d"
      },
      "execution_count": null,
      "outputs": [
        {
          "output_type": "stream",
          "name": "stdout",
          "text": [
            "sciezka data scientist machine learning engineer\n"
          ]
        }
      ]
    }
  ]
}