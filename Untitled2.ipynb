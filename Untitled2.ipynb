{
  "nbformat": 4,
  "nbformat_minor": 0,
  "metadata": {
    "colab": {
      "name": "Untitled2.ipynb",
      "provenance": [],
      "collapsed_sections": [],
      "authorship_tag": "ABX9TyOns+VC7ot33aorL9gn+U9O",
      "include_colab_link": true
    },
    "kernelspec": {
      "name": "python3",
      "display_name": "Python 3"
    },
    "language_info": {
      "name": "python"
    }
  },
  "cells": [
    {
      "cell_type": "markdown",
      "metadata": {
        "id": "view-in-github",
        "colab_type": "text"
      },
      "source": [
        "<a href=\"https://colab.research.google.com/github/SatyaPalui/PythonPractice/blob/main/Untitled2.ipynb\" target=\"_parent\"><img src=\"https://colab.research.google.com/assets/colab-badge.svg\" alt=\"Open In Colab\"/></a>"
      ]
    },
    {
      "cell_type": "code",
      "execution_count": null,
      "metadata": {
        "colab": {
          "base_uri": "https://localhost:8080/"
        },
        "id": "3NKP3R67AwYM",
        "outputId": "afd49a87-2391-4636-9129-211aca886540"
      },
      "outputs": [
        {
          "output_type": "stream",
          "name": "stdout",
          "text": [
            "Hello from a function\n"
          ]
        }
      ],
      "source": [
        "def my_function():\n",
        "  print(\"Hello from a function\")\n",
        "my_function()\n"
      ]
    },
    {
      "cell_type": "code",
      "source": [
        "def my_function(fname, lname):\n",
        "  print(fname)\n",
        "my_function(\"satya\",\"palui\")"
      ],
      "metadata": {
        "colab": {
          "base_uri": "https://localhost:8080/"
        },
        "id": "S3Z-RF4XBfON",
        "outputId": "70caa82c-ce16-400d-bbab-e2eb1afac1ba"
      },
      "execution_count": null,
      "outputs": [
        {
          "output_type": "stream",
          "name": "stdout",
          "text": [
            "satya\n"
          ]
        }
      ]
    },
    {
      "cell_type": "code",
      "source": [
        "def x(k):\n",
        "  if(k > 0):\n",
        "    result = k + x(k - 1)\n",
        "    print(result)\n",
        "  else:\n",
        "    result = 0\n",
        "  return result\n",
        "\n",
        "print(\"\\n\\nRecursion Example Results\")\n",
        "x(6)"
      ],
      "metadata": {
        "colab": {
          "base_uri": "https://localhost:8080/"
        },
        "id": "TniWIJq91e0m",
        "outputId": "0a76417b-e5e0-489b-d33a-30a64183ba50"
      },
      "execution_count": null,
      "outputs": [
        {
          "output_type": "stream",
          "name": "stdout",
          "text": [
            "\n",
            "\n",
            "Recursion Example Results\n",
            "1\n",
            "3\n",
            "6\n",
            "10\n",
            "15\n",
            "21\n"
          ]
        },
        {
          "output_type": "execute_result",
          "data": {
            "text/plain": [
              "21"
            ]
          },
          "metadata": {},
          "execution_count": 3
        }
      ]
    },
    {
      "cell_type": "code",
      "source": [
        "def tri_recursion(k):\n",
        "  if(k > 0):\n",
        "    result = k + tri_recursion(k - 1)\n",
        "    print(result)\n",
        "  else:\n",
        "    result = 0\n",
        "  return result\n",
        "\n",
        "print(\"\\n\\nRecursion Example Results\")\n",
        "tri_recursion(6)"
      ],
      "metadata": {
        "colab": {
          "base_uri": "https://localhost:8080/"
        },
        "id": "jvu2dwUTsppK",
        "outputId": "9ab5db5d-66f4-459e-950c-7f0db4c049bf"
      },
      "execution_count": null,
      "outputs": [
        {
          "output_type": "stream",
          "name": "stdout",
          "text": [
            "\n",
            "\n",
            "Recursion Example Results\n",
            "1\n",
            "3\n",
            "6\n",
            "10\n",
            "15\n",
            "21\n"
          ]
        },
        {
          "output_type": "execute_result",
          "data": {
            "text/plain": [
              "21"
            ]
          },
          "metadata": {},
          "execution_count": 4
        }
      ]
    },
    {
      "cell_type": "code",
      "source": [
        "def x(i):\n",
        "  return lambda a : a * i\n",
        "\n",
        "d = x(2)\n",
        "t = x(3)\n",
        "\n",
        "print(d(11))\n",
        "print(t(11))"
      ],
      "metadata": {
        "colab": {
          "base_uri": "https://localhost:8080/"
        },
        "id": "G0NwPjDUy0kT",
        "outputId": "dca8b980-8d9f-4b3a-82bc-208172e380f3"
      },
      "execution_count": null,
      "outputs": [
        {
          "output_type": "stream",
          "name": "stdout",
          "text": [
            "22\n",
            "33\n"
          ]
        }
      ]
    },
    {
      "cell_type": "code",
      "source": [
        "class Person:\n",
        "  def __init__(self, name, age):\n",
        "    self.name = name\n",
        "    self.age = age\n",
        "\n",
        "  def myfunc(self):\n",
        "    print(\"Hello my name is \" + self.name)\n",
        "\n",
        "  def myage(self):\n",
        "    print(\"My age is \", self.age)\n",
        "    self.age = self.age + 2\n",
        "    print(\"My age is \", self.age)\n",
        "\n",
        "  def myage2(self):\n",
        "    print(\"My age2 is \", self.age)\n",
        "\n",
        "p1 = Person(\"Satya\", 34)\n",
        "p1.myfunc()\n",
        "\n",
        "p2 = Person(\"Amartya\",35)\n",
        "p2.myage()\n",
        "\n",
        "p2.myage2()"
      ],
      "metadata": {
        "colab": {
          "base_uri": "https://localhost:8080/"
        },
        "id": "IViXox4aOAI_",
        "outputId": "b515be82-1ab7-4e5e-ccc2-048aa1a6b9f0"
      },
      "execution_count": 12,
      "outputs": [
        {
          "output_type": "stream",
          "name": "stdout",
          "text": [
            "Hello my name is Satya\n",
            "My age is  35\n",
            "My age is  37\n",
            "My age2 is  37\n"
          ]
        }
      ]
    },
    {
      "cell_type": "code",
      "source": [
        "class Person:\n",
        "  def __init__(self):\n",
        "    self.name = None\n",
        "    self.age = None\n",
        "\n",
        "  def myfunc(self):\n",
        "    self.name = \"John\"\n",
        "    self.age = 35\n",
        "    print(\"Hello my name is \" + self.name)\n",
        "\n",
        "  def myage(self):\n",
        "    print(\"My age is \", self.age)\n",
        "    self.age = self.age + 2\n",
        "    print(\"My age is \", self.age)\n",
        "\n",
        "  def myage2(self):\n",
        "    print(\"My age is \", self.age)\n",
        "\n",
        "p1 = Person()\n",
        "p1.myfunc()\n",
        "\n",
        "\n",
        "#p2 = Person(\"Amartya\",35)\n",
        "#p2.myage()\n",
        "\n",
        "#p2.myage2()"
      ],
      "metadata": {
        "colab": {
          "base_uri": "https://localhost:8080/"
        },
        "id": "IUxawI2kRTfy",
        "outputId": "7a8782cf-68d0-4aeb-f36c-2191333d4f09"
      },
      "execution_count": 13,
      "outputs": [
        {
          "output_type": "stream",
          "name": "stdout",
          "text": [
            "Hello my name is John\n"
          ]
        }
      ]
    },
    {
      "cell_type": "code",
      "source": [
        "class TempConverter:\n",
        "  def __init__(self, farenhite):\n",
        "    self.farenhite = farenhite\n",
        "\n",
        "  def myfunc(self):\n",
        "    self.centigrade = (self.farenhite-32)*(5/9)\n",
        "    print(\"Temp in c is \", self.centigrade)\n",
        "\n",
        "  def tempdiff(self):\n",
        "    self.centigrade = self.centigrade + 2\n",
        "    print(\"Temp in new c is \", self.centigrade)\n",
        "\n",
        "temparr = [34, 38, 32, 36 ]\n",
        "temparr2 = temparr.copy()\n",
        "temparr2.pop(0)\n",
        "for i in range (len(temparr)):\n",
        "  t1 = TempConverter(temparr[i])\n",
        "  t1.myfunc()\n",
        "  t1.tempdiff()\n"
      ],
      "metadata": {
        "colab": {
          "base_uri": "https://localhost:8080/"
        },
        "id": "0VTuv4ugTK5B",
        "outputId": "29392cd8-e99e-4967-b9e9-1269bed6cf79"
      },
      "execution_count": null,
      "outputs": [
        {
          "output_type": "stream",
          "name": "stdout",
          "text": [
            "Temp in c is  1.1111111111111112\n",
            "Temp in new c is  3.111111111111111\n",
            "Temp in c is  3.3333333333333335\n",
            "Temp in new c is  5.333333333333334\n",
            "Temp in c is  0.0\n",
            "Temp in new c is  2.0\n",
            "Temp in c is  2.2222222222222223\n",
            "Temp in new c is  4.222222222222222\n"
          ]
        }
      ]
    },
    {
      "cell_type": "code",
      "source": [
        "class TempConverter:\n",
        "  def __init__(self, farenhite):\n",
        "    self.farenhite = farenhite\n",
        "\n",
        "  def myfunc(self):\n",
        "    self.centigrade = (self.farenhite-32)*(5/9)\n",
        "\n",
        "temparr = [34, 38, 32, 36]\n",
        "temparr2 = []\n",
        "for i in range (len(temparr)):\n",
        "  t1 = TempConverter(temparr[i])\n",
        "  t1.myfunc()\n",
        "  if i>0:\n",
        "    temparr2.append(temparr[i])\n",
        "    t2 = TempConverter(temparr2[i])\n",
        "    t2.myfunc()\n",
        "for i in range (len(temparr2)):\n",
        "  print (\"Temparature difference in centigrade with day \", temparr2(i), \" and \", temparr(i), \"is \", temparr2(i)-temparr(i))\n"
      ],
      "metadata": {
        "colab": {
          "base_uri": "https://localhost:8080/",
          "height": 234
        },
        "id": "fwcLThajCSx0",
        "outputId": "e8285621-7f19-4214-9503-20c9769eaeee"
      },
      "execution_count": null,
      "outputs": [
        {
          "output_type": "error",
          "ename": "IndexError",
          "evalue": "ignored",
          "traceback": [
            "\u001b[0;31m---------------------------------------------------------------------------\u001b[0m",
            "\u001b[0;31mIndexError\u001b[0m                                Traceback (most recent call last)",
            "\u001b[0;32m<ipython-input-8-b3e1b9aad1b2>\u001b[0m in \u001b[0;36m<module>\u001b[0;34m()\u001b[0m\n\u001b[1;32m     13\u001b[0m   \u001b[0;32mif\u001b[0m \u001b[0mi\u001b[0m\u001b[0;34m>\u001b[0m\u001b[0;36m0\u001b[0m\u001b[0;34m:\u001b[0m\u001b[0;34m\u001b[0m\u001b[0;34m\u001b[0m\u001b[0m\n\u001b[1;32m     14\u001b[0m     \u001b[0mtemparr2\u001b[0m\u001b[0;34m.\u001b[0m\u001b[0mappend\u001b[0m\u001b[0;34m(\u001b[0m\u001b[0mtemparr\u001b[0m\u001b[0;34m[\u001b[0m\u001b[0mi\u001b[0m\u001b[0;34m]\u001b[0m\u001b[0;34m)\u001b[0m\u001b[0;34m\u001b[0m\u001b[0;34m\u001b[0m\u001b[0m\n\u001b[0;32m---> 15\u001b[0;31m     \u001b[0mt2\u001b[0m \u001b[0;34m=\u001b[0m \u001b[0mTempConverter\u001b[0m\u001b[0;34m(\u001b[0m\u001b[0mtemparr2\u001b[0m\u001b[0;34m[\u001b[0m\u001b[0mi\u001b[0m\u001b[0;34m]\u001b[0m\u001b[0;34m)\u001b[0m\u001b[0;34m\u001b[0m\u001b[0;34m\u001b[0m\u001b[0m\n\u001b[0m\u001b[1;32m     16\u001b[0m     \u001b[0mt2\u001b[0m\u001b[0;34m.\u001b[0m\u001b[0mmyfunc\u001b[0m\u001b[0;34m(\u001b[0m\u001b[0;34m)\u001b[0m\u001b[0;34m\u001b[0m\u001b[0;34m\u001b[0m\u001b[0m\n\u001b[1;32m     17\u001b[0m \u001b[0;32mfor\u001b[0m \u001b[0mi\u001b[0m \u001b[0;32min\u001b[0m \u001b[0mrange\u001b[0m \u001b[0;34m(\u001b[0m\u001b[0mlen\u001b[0m\u001b[0;34m(\u001b[0m\u001b[0mtemparr2\u001b[0m\u001b[0;34m)\u001b[0m\u001b[0;34m)\u001b[0m\u001b[0;34m:\u001b[0m\u001b[0;34m\u001b[0m\u001b[0;34m\u001b[0m\u001b[0m\n",
            "\u001b[0;31mIndexError\u001b[0m: list index out of range"
          ]
        }
      ]
    },
    {
      "cell_type": "code",
      "source": [
        "class numbers:\n",
        "  def __init__(self, numbers):\n",
        "    self.numbers = numbers\n",
        "\n",
        "  def n_max(self):\n",
        "    if i == 0:\n",
        "      n_max = self.numbers\n",
        "    else:\n",
        "      n_max = max(n_max, self.numbers)\n",
        "    print(\"Maximum number is \", self.n_max)\n",
        "\n",
        "numberset = [34, 38, 32, 36, 0, -2]\n",
        "\n",
        "for i in range (len(numberset)):\n",
        "  n1 = numbers(numberset[i])\n",
        "  n1.n_max()\n",
        "\n",
        "\n",
        "  "
      ],
      "metadata": {
        "colab": {
          "base_uri": "https://localhost:8080/",
          "height": 374
        },
        "id": "90R2l5XPTf-h",
        "outputId": "28ddf00f-c509-4cee-ad72-74920b180daf"
      },
      "execution_count": 24,
      "outputs": [
        {
          "output_type": "stream",
          "name": "stdout",
          "text": [
            "Maximum number is  <bound method numbers.n_max of <__main__.numbers object at 0x7fcb4bd7b390>>\n"
          ]
        },
        {
          "output_type": "error",
          "ename": "UnboundLocalError",
          "evalue": "ignored",
          "traceback": [
            "\u001b[0;31m---------------------------------------------------------------------------\u001b[0m",
            "\u001b[0;31mUnboundLocalError\u001b[0m                         Traceback (most recent call last)",
            "\u001b[0;32m<ipython-input-24-c7f9f65dbca8>\u001b[0m in \u001b[0;36m<module>\u001b[0;34m()\u001b[0m\n\u001b[1;32m     14\u001b[0m \u001b[0;32mfor\u001b[0m \u001b[0mi\u001b[0m \u001b[0;32min\u001b[0m \u001b[0mrange\u001b[0m \u001b[0;34m(\u001b[0m\u001b[0mlen\u001b[0m\u001b[0;34m(\u001b[0m\u001b[0mnumberset\u001b[0m\u001b[0;34m)\u001b[0m\u001b[0;34m)\u001b[0m\u001b[0;34m:\u001b[0m\u001b[0;34m\u001b[0m\u001b[0;34m\u001b[0m\u001b[0m\n\u001b[1;32m     15\u001b[0m   \u001b[0mn1\u001b[0m \u001b[0;34m=\u001b[0m \u001b[0mnumbers\u001b[0m\u001b[0;34m(\u001b[0m\u001b[0mnumberset\u001b[0m\u001b[0;34m[\u001b[0m\u001b[0mi\u001b[0m\u001b[0;34m]\u001b[0m\u001b[0;34m)\u001b[0m\u001b[0;34m\u001b[0m\u001b[0;34m\u001b[0m\u001b[0m\n\u001b[0;32m---> 16\u001b[0;31m   \u001b[0mn1\u001b[0m\u001b[0;34m.\u001b[0m\u001b[0mn_max\u001b[0m\u001b[0;34m(\u001b[0m\u001b[0;34m)\u001b[0m\u001b[0;34m\u001b[0m\u001b[0;34m\u001b[0m\u001b[0m\n\u001b[0m\u001b[1;32m     17\u001b[0m \u001b[0;34m\u001b[0m\u001b[0m\n\u001b[1;32m     18\u001b[0m \u001b[0;34m\u001b[0m\u001b[0m\n",
            "\u001b[0;32m<ipython-input-24-c7f9f65dbca8>\u001b[0m in \u001b[0;36mn_max\u001b[0;34m(self)\u001b[0m\n\u001b[1;32m      7\u001b[0m       \u001b[0mn_max\u001b[0m \u001b[0;34m=\u001b[0m \u001b[0mself\u001b[0m\u001b[0;34m.\u001b[0m\u001b[0mnumbers\u001b[0m\u001b[0;34m\u001b[0m\u001b[0;34m\u001b[0m\u001b[0m\n\u001b[1;32m      8\u001b[0m     \u001b[0;32melse\u001b[0m\u001b[0;34m:\u001b[0m\u001b[0;34m\u001b[0m\u001b[0;34m\u001b[0m\u001b[0m\n\u001b[0;32m----> 9\u001b[0;31m       \u001b[0mn_max\u001b[0m \u001b[0;34m=\u001b[0m \u001b[0mmax\u001b[0m\u001b[0;34m(\u001b[0m\u001b[0mn_max\u001b[0m\u001b[0;34m,\u001b[0m \u001b[0mself\u001b[0m\u001b[0;34m.\u001b[0m\u001b[0mnumbers\u001b[0m\u001b[0;34m)\u001b[0m\u001b[0;34m\u001b[0m\u001b[0;34m\u001b[0m\u001b[0m\n\u001b[0m\u001b[1;32m     10\u001b[0m     \u001b[0mprint\u001b[0m\u001b[0;34m(\u001b[0m\u001b[0;34m\"Maximum number is \"\u001b[0m\u001b[0;34m,\u001b[0m \u001b[0mself\u001b[0m\u001b[0;34m.\u001b[0m\u001b[0mn_max\u001b[0m\u001b[0;34m)\u001b[0m\u001b[0;34m\u001b[0m\u001b[0;34m\u001b[0m\u001b[0m\n\u001b[1;32m     11\u001b[0m \u001b[0;34m\u001b[0m\u001b[0m\n",
            "\u001b[0;31mUnboundLocalError\u001b[0m: local variable 'n_max' referenced before assignment"
          ]
        }
      ]
    }
  ]
}